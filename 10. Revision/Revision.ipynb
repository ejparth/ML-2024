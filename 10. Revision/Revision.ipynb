{
 "cells": [
  {
   "cell_type": "markdown",
   "id": "20400958-5473-48a1-8489-1924d1fbc360",
   "metadata": {},
   "source": [
    "##### This book is to practice following techniques: Cross validation, GridSearchCV, ConfusionMatrix, Check Undrfit or Overfitting"
   ]
  },
  {
   "cell_type": "code",
   "execution_count": 32,
   "id": "fb45996a-59c5-4ab7-b25a-007fdbe4c480",
   "metadata": {},
   "outputs": [],
   "source": [
    "import pandas as pd\n",
    "from sklearn.datasets import load_iris\n",
    "from sklearn.linear_model import LogisticRegression\n",
    "from sklearn.svm import SVC\n",
    "from sklearn.ensemble import RandomForestClassifier\n",
    "from sklearn.neighbors import KNeighborsClassifier"
   ]
  },
  {
   "cell_type": "code",
   "execution_count": 2,
   "id": "1bd19f0d-64d9-4d61-a470-fcbbf43dc8a0",
   "metadata": {},
   "outputs": [],
   "source": [
    "iris = load_iris()"
   ]
  },
  {
   "cell_type": "code",
   "execution_count": 3,
   "id": "46e464b5-8748-4076-b241-b3d2a6dc0c24",
   "metadata": {},
   "outputs": [
    {
     "data": {
      "text/plain": [
       "['DESCR',\n",
       " 'data',\n",
       " 'data_module',\n",
       " 'feature_names',\n",
       " 'filename',\n",
       " 'frame',\n",
       " 'target',\n",
       " 'target_names']"
      ]
     },
     "execution_count": 3,
     "metadata": {},
     "output_type": "execute_result"
    }
   ],
   "source": [
    "dir(iris)"
   ]
  },
  {
   "cell_type": "code",
   "execution_count": 4,
   "id": "5b0e598c-a8d8-463e-8e48-c2b94b3f50aa",
   "metadata": {},
   "outputs": [],
   "source": [
    "### Cross Validation using KFold Technique"
   ]
  },
  {
   "cell_type": "code",
   "execution_count": 8,
   "id": "b8e50ce5-337f-4b43-9f91-023013ac45be",
   "metadata": {},
   "outputs": [
    {
     "name": "stderr",
     "output_type": "stream",
     "text": [
      "C:\\Users\\Aakash Saxena\\AppData\\Local\\Programs\\Python\\Python312\\Lib\\site-packages\\sklearn\\linear_model\\_logistic.py:460: ConvergenceWarning: lbfgs failed to converge (status=1):\n",
      "STOP: TOTAL NO. of ITERATIONS REACHED LIMIT.\n",
      "\n",
      "Increase the number of iterations (max_iter) or scale the data as shown in:\n",
      "    https://scikit-learn.org/stable/modules/preprocessing.html\n",
      "Please also refer to the documentation for alternative solver options:\n",
      "    https://scikit-learn.org/stable/modules/linear_model.html#logistic-regression\n",
      "  n_iter_i = _check_optimize_result(\n"
     ]
    },
    {
     "data": {
      "text/plain": [
       "array([0.96666667, 1.        , 0.93333333, 0.96666667, 1.        ])"
      ]
     },
     "execution_count": 8,
     "metadata": {},
     "output_type": "execute_result"
    }
   ],
   "source": [
    "from sklearn.model_selection import cross_val_score\n",
    "cross_val_score(LogisticRegression(), iris.data, iris.target, cv =5)"
   ]
  },
  {
   "cell_type": "code",
   "execution_count": 10,
   "id": "099c7153-6feb-4c41-9874-dbfcf96d03e3",
   "metadata": {},
   "outputs": [
    {
     "data": {
      "text/plain": [
       "array([0.96666667, 0.96666667, 0.93333333, 0.96666667, 1.        ])"
      ]
     },
     "execution_count": 10,
     "metadata": {},
     "output_type": "execute_result"
    }
   ],
   "source": [
    "cross_val_score(RandomForestClassifier(n_estimators=20), iris.data, iris.target, cv =5)"
   ]
  },
  {
   "cell_type": "code",
   "execution_count": 13,
   "id": "05d61390-4c97-47a8-aa50-3477c1f088c0",
   "metadata": {},
   "outputs": [
    {
     "data": {
      "text/plain": [
       "array([0.96666667, 1.        , 0.96666667, 0.96666667, 1.        ])"
      ]
     },
     "execution_count": 13,
     "metadata": {},
     "output_type": "execute_result"
    }
   ],
   "source": [
    "cross_val_score(SVC(C=2,kernel='rbf'), iris.data, iris.target, cv =5)"
   ]
  },
  {
   "cell_type": "code",
   "execution_count": 12,
   "id": "0a4a63ff-c9d0-4f27-88f7-c6c4970f37ae",
   "metadata": {},
   "outputs": [],
   "source": [
    "##### HyperparameterTuning"
   ]
  },
  {
   "cell_type": "code",
   "execution_count": 14,
   "id": "d5c5e0f0-f365-467f-ad87-5d98e69d24a0",
   "metadata": {},
   "outputs": [],
   "source": [
    "from sklearn.model_selection import GridSearchCV"
   ]
  },
  {
   "cell_type": "code",
   "execution_count": 44,
   "id": "a399c1ef-3530-4a53-9ea7-5b5ec1dabe04",
   "metadata": {},
   "outputs": [],
   "source": [
    "model_params = {\n",
    "    'RandomForest':{\n",
    "        'model' : RandomForestClassifier(),\n",
    "        'params' : {\n",
    "            'n_estimators' : [5,10,15,20,30,35]\n",
    "        }\n",
    "    },\n",
    "    'Support Vector' : {\n",
    "        'model' : SVC(),\n",
    "        'params' : {\n",
    "            'C' : [1,2],\n",
    "            'kernel' : ['rbf','linear'],\n",
    "            'gamma' : [5,10,15]\n",
    "        }\n",
    "    },\n",
    "\n",
    "    'KNN Classifier' :{\n",
    "        'model' : KNeighborsClassifier(),\n",
    "        'params' : {\n",
    "            'n_neighbors':[3,5]\n",
    "        }\n",
    "    }\n",
    "}"
   ]
  },
  {
   "cell_type": "code",
   "execution_count": 48,
   "id": "ad6bd0bf-e338-4544-9123-938116d18d92",
   "metadata": {},
   "outputs": [
    {
     "data": {
      "text/html": [
       "<div>\n",
       "<style scoped>\n",
       "    .dataframe tbody tr th:only-of-type {\n",
       "        vertical-align: middle;\n",
       "    }\n",
       "\n",
       "    .dataframe tbody tr th {\n",
       "        vertical-align: top;\n",
       "    }\n",
       "\n",
       "    .dataframe thead th {\n",
       "        text-align: right;\n",
       "    }\n",
       "</style>\n",
       "<table border=\"1\" class=\"dataframe\">\n",
       "  <thead>\n",
       "    <tr style=\"text-align: right;\">\n",
       "      <th></th>\n",
       "      <th>model</th>\n",
       "      <th>Best score</th>\n",
       "      <th>best_params</th>\n",
       "      <th>n_splits</th>\n",
       "    </tr>\n",
       "  </thead>\n",
       "  <tbody>\n",
       "    <tr>\n",
       "      <th>0</th>\n",
       "      <td>RandomForest</td>\n",
       "      <td>0.966667</td>\n",
       "      <td>{'n_estimators': 10}</td>\n",
       "      <td>5</td>\n",
       "    </tr>\n",
       "    <tr>\n",
       "      <th>1</th>\n",
       "      <td>Support Vector</td>\n",
       "      <td>0.980000</td>\n",
       "      <td>{'C': 1, 'gamma': 5, 'kernel': 'linear'}</td>\n",
       "      <td>5</td>\n",
       "    </tr>\n",
       "    <tr>\n",
       "      <th>2</th>\n",
       "      <td>KNN Classifier</td>\n",
       "      <td>0.973333</td>\n",
       "      <td>{'n_neighbors': 5}</td>\n",
       "      <td>5</td>\n",
       "    </tr>\n",
       "  </tbody>\n",
       "</table>\n",
       "</div>"
      ],
      "text/plain": [
       "            model  Best score                               best_params  \\\n",
       "0    RandomForest    0.966667                      {'n_estimators': 10}   \n",
       "1  Support Vector    0.980000  {'C': 1, 'gamma': 5, 'kernel': 'linear'}   \n",
       "2  KNN Classifier    0.973333                        {'n_neighbors': 5}   \n",
       "\n",
       "   n_splits  \n",
       "0         5  \n",
       "1         5  \n",
       "2         5  "
      ]
     },
     "execution_count": 48,
     "metadata": {},
     "output_type": "execute_result"
    }
   ],
   "source": [
    "score = []\n",
    "for models, mp in model_params.items():\n",
    "    clf = GridSearchCV(mp['model'],mp['params'],cv=5, return_train_score=False)\n",
    "    clf.fit(iris.data, iris.target)\n",
    "    score.append({\n",
    "        'model' : models,\n",
    "        'Best score' : clf.best_score_,\n",
    "        'best_params': clf.best_params_,\n",
    "        'n_splits' : clf.n_splits_\n",
    "    })\n",
    "df = pd.DataFrame(score,columns=['model','Best score','best_params','n_splits'])\n",
    "df\n",
    "\n",
    "\n"
   ]
  },
  {
   "cell_type": "code",
   "execution_count": null,
   "id": "d7e93c91-9551-406d-8dc9-fc69f8111c10",
   "metadata": {},
   "outputs": [],
   "source": []
  }
 ],
 "metadata": {
  "kernelspec": {
   "display_name": "Python 3 (ipykernel)",
   "language": "python",
   "name": "python3"
  },
  "language_info": {
   "codemirror_mode": {
    "name": "ipython",
    "version": 3
   },
   "file_extension": ".py",
   "mimetype": "text/x-python",
   "name": "python",
   "nbconvert_exporter": "python",
   "pygments_lexer": "ipython3",
   "version": "3.12.1"
  }
 },
 "nbformat": 4,
 "nbformat_minor": 5
}
